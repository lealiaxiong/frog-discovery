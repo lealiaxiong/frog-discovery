{
 "cells": [
  {
   "cell_type": "markdown",
   "id": "719b1538-0227-4b6e-8da0-6dab95f07c18",
   "metadata": {},
   "source": [
    "# Import packages"
   ]
  },
  {
   "cell_type": "code",
   "execution_count": 1,
   "id": "2b7cc669-f736-48a1-abfa-aa9ee5ad2634",
   "metadata": {},
   "outputs": [],
   "source": [
    "# Suppress Warnings \n",
    "import warnings\n",
    "warnings.filterwarnings('ignore')\n",
    "\n",
    "# Plotting\n",
    "import matplotlib.pyplot as plt\n",
    "\n",
    "# Data science\n",
    "import pandas as pd\n",
    "import numpy as np\n",
    "\n",
    "# Machine Learning\n",
    "from sklearn.linear_model import LogisticRegression\n",
    "from sklearn.metrics import f1_score, accuracy_score, ConfusionMatrixDisplay\n",
    "from sklearn.model_selection import StratifiedKFold\n",
    "\n",
    "# Geospatial\n",
    "import contextily as cx\n",
    "import xarray as xr\n",
    "import zarr # Not referenced, but required for xarray\n",
    "\n",
    "# Import Planetary Computer tools\n",
    "import fsspec\n",
    "import pystac\n",
    "\n",
    "# Other\n",
    "import os\n",
    "import zipfile\n",
    "from itertools import cycle\n",
    "\n",
    "# Path to data folder with provided material\n",
    "data_path = '..//../'"
   ]
  },
  {
   "cell_type": "markdown",
   "id": "4ab9cec3-d484-48d4-af36-39d6d341a32b",
   "metadata": {},
   "source": [
    "# Data input\n",
    "## Frog data (response variable)\n",
    "We use the functions included in the benchmark file to collect the frog data from the provided training data. We search for frogs in the 5 evaluation regions and an additional 4 regions on other parts of Australia's coast, limited to frogs observed between the start of 2015 and the present day. We do this by providing `year_range` and `bbox` parameters to the `get_frogs` function defined below."
   ]
  },
  {
   "cell_type": "code",
   "execution_count": 2,
   "id": "000cc157-6b4d-45ab-9b76-3702425a4450",
   "metadata": {
    "tags": []
   },
   "outputs": [],
   "source": [
    "if not os.path.exists(data_path+'training_data/'):\n",
    "    os.mkdir(data_path+'training_data/')\n",
    "    with zipfile.ZipFile(data_path+'GBIF_training_data.zip', 'r') as zip_ref:\n",
    "        zip_ref.extractall(data_path+'training_data/')\n",
    "        \n",
    "def filter_bbox(frogs, bbox):\n",
    "    frogs = frogs[lambda x: \n",
    "        (x.decimalLongitude >= bbox[0]) &\n",
    "        (x.decimalLatitude >= bbox[1]) &\n",
    "        (x.decimalLongitude <= bbox[2]) &\n",
    "        (x.decimalLatitude <= bbox[3])\n",
    "    ]\n",
    "    return frogs\n",
    "\n",
    "def get_frogs(file, year_range=None, bbox=None):\n",
    "    \"\"\"Returns the dataframe of all frog occurrences for the bounding box specified.\"\"\"\n",
    "    columns = [\n",
    "        'gbifID','eventDate','country','continent','stateProvince',\n",
    "        'decimalLatitude','decimalLongitude','species'\n",
    "    ]\n",
    "    country_names = {\n",
    "        'AU':'Australia', 'CR':'Costa Rica', 'ZA':'South Africa','MX':'Mexico','HN':'Honduras',\n",
    "        'MZ':'Mozambique','BW':'Botswana','MW':'Malawi','CO':'Colombia','PA':'Panama','NI':'Nicaragua',\n",
    "        'BZ':'Belize','ZW':'Zimbabwe','SZ':'Eswatini','ZM':'Zambia','GT':'Guatemala','LS':'Lesotho',\n",
    "        'SV':'El Salvador', 'AO':'Angola', np.nan:'unknown or invalid'\n",
    "    }\n",
    "    continent_names = {\n",
    "        'AU':'Australia', 'CR':'Central America', 'ZA':'Africa','MX':'Central America','HN':'Central America',\n",
    "        'MZ':'Africa','BW':'Africa','MW':'Africa','CO':'Central America','PA':'Central America',\n",
    "        'NI':'Central America','BZ':'Central America','ZW':'Africa','SZ':'Africa','ZM':'Africa',\n",
    "        'GT':'Central America','LS':'Africa','SV':'Central America','AO':'Africa', np.nan:'unknown or invalid' \n",
    "    }\n",
    "    frogs = (\n",
    "        pd.read_csv(data_path+'training_data/occurrence.txt', sep='\\t', parse_dates=['eventDate'])\n",
    "        .assign(\n",
    "            country =  lambda x: x.countryCode.map(country_names),\n",
    "            continent =  lambda x: x.countryCode.map(continent_names),\n",
    "            species = lambda x: x.species.str.title()\n",
    "        )\n",
    "        [columns]\n",
    "    )\n",
    "    if year_range is not None:\n",
    "        frogs = frogs[lambda x: \n",
    "            (x.eventDate.dt.year >= year_range[0]) & \n",
    "            (x.eventDate.dt.year <= year_range[1])\n",
    "        ]\n",
    "    if bbox is not None:\n",
    "        frogs = filter_bbox(frogs, bbox)\n",
    "    return frogs"
   ]
  },
  {
   "cell_type": "code",
   "execution_count": 3,
   "id": "0fb438f4-9f1a-40fd-b8f6-1fc49a1fa9e0",
   "metadata": {},
   "outputs": [],
   "source": [
    "bboxs=[\n",
    "    # from submission file\n",
    "    (144.8,-38.5,145.8,-37.5), \n",
    "    (150.7,-33.5,151.7,-32.5), \n",
    "    (152.6,-29.0,153.6,-28.0),\n",
    "    (145.0,-17.7,146.0,-16.7),\n",
    "    (115.7,-32.5,116.7,-31.5),\n",
    "    # Additional regions\n",
    "    (148.8, -35.7, 149.8, -34.7),\n",
    "    (152.3, -30.7, 153.3, -29.7),\n",
    "    (152.1, -27.3 , 153.1, -26.3),\n",
    "    (130.8, -12.8, 131.8, -11.8),\n",
    "    \n",
    "]\n",
    "    \n",
    "# Load in data\n",
    "\n",
    "frog_datas = []\n",
    "for bbox in bboxs:\n",
    "    frog_datas.append(get_frogs(data_path+'/training_data/occurrence.txt', \n",
    "                                year_range=(2015, 2022), bbox=bbox))"
   ]
  },
  {
   "cell_type": "code",
   "execution_count": 4,
   "id": "ed3a1664-69ad-44b2-986b-f0b51f72a04e",
   "metadata": {},
   "outputs": [],
   "source": [
    "target_species = 'Litoria Fallax'\n",
    "\n",
    "for i, frog_data in enumerate(frog_datas):\n",
    "    frog_datas[i] = (\n",
    "        frog_data\n",
    "        # Assign the occurrenceStatus to 1 for the target species and 0 for all other species.\n",
    "        # as well as a key for joining (later)\n",
    "        .assign(\n",
    "            occurrenceStatus = lambda x: np.where(x.species == target_species, 1, 0)\n",
    "        ).reset_index(drop=True)\n",
    "        .assign(key=lambda x: x.index)\n",
    "    )"
   ]
  },
  {
   "cell_type": "markdown",
   "id": "b8e76207-3401-415d-91c4-90dca33e47ec",
   "metadata": {},
   "source": [
    "## Weather data (predictor variable) \n",
    "We modified the `get_terraclimate` function from the benchmark file to group the weather data by month and take the maximum value, minimum value, mean, and standard deviation of each of our chosen measurements. "
   ]
  },
  {
   "cell_type": "code",
   "execution_count": 5,
   "id": "dc145221-cb0a-4f83-b706-62e1a83d3089",
   "metadata": {},
   "outputs": [],
   "source": [
    "def get_terraclimate_all(bbox, time_slice=None, assets=None, interp_dims=None, verbose=True):\n",
    "    \"\"\"Returns terraclimate data.\n",
    "    \n",
    "    Attributes:\n",
    "    bbox -- Tuple of (min_lon, min_lat, max_lon, max_lat) to define area\n",
    "    time_slice -- Tuple of datetime strings to select data between, e.g. ('2015-01-01','2019-12-31')\n",
    "    assets -- list of terraclimate assets to take\n",
    "    \"\"\"\n",
    "    min_lon, min_lat, max_lon, max_lat = bbox\n",
    "    \n",
    "    collection = pystac.read_file(\"https://planetarycomputer.microsoft.com/api/stac/v1/collections/terraclimate\")\n",
    "    asset = collection.assets[\"zarr-https\"]\n",
    "    store = fsspec.get_mapper(asset.href)\n",
    "    data = xr.open_zarr(store, **asset.extra_fields[\"xarray:open_kwargs\"])\n",
    "    \n",
    "    # Select datapoints that overlap region\n",
    "    if time_slice is not None:\n",
    "        data = data.sel(lon=slice(min_lon,max_lon),lat=slice(max_lat,min_lat),time=slice(time_slice[0],time_slice[1]))\n",
    "    else:\n",
    "        data = data.sel(lon=slice(min_lon,max_lon),lat=slice(max_lat,min_lat))\n",
    "    if assets is not None:\n",
    "        data = data[assets]\n",
    "    print('Loading data') if verbose else None\n",
    "    data = data.rename(lat='y', lon='x').compute()\n",
    "    \n",
    "    if interp_dims is not None:\n",
    "        print(f'Interpolating image') if verbose else None\n",
    "        interp_coords = (np.linspace(bbox[0], bbox[2], interp_dims[0]), np.linspace(bbox[1], bbox[3], interp_dims[1]))\n",
    "        data = data.interp(x=interp_coords[0], y=interp_coords[1], method='nearest', kwargs={\"fill_value\": \"extrapolate\"})\n",
    "    \n",
    "    return data\n",
    "\n",
    "def get_terraclimate_months(bbox, time_slice=None, assets=None, interp_dims=None, verbose=True):\n",
    "    \"\"\"Get weather data and take mean by month.\"\"\"\n",
    "    ds = get_terraclimate_all(bbox, time_slice=time_slice, assets=assets, interp_dims=interp_dims, verbose=verbose)\n",
    "    ds_month = [ds.groupby('time.month').max(dim='time'), \n",
    "                ds.groupby('time.month').min(dim='time'),\n",
    "                ds.groupby('time.month').mean(dim='time'),\n",
    "                ds.groupby('time.month').std(dim='time')]    \n",
    "    return ds_month\n",
    "\n",
    "def get_terraclimate(bbox, time_slice=None, assets=None, interp_dims=None, verbose=True):\n",
    "    \"\"\"Get weather data and take mean by month and make each month/asset a new variable.\"\"\"\n",
    "    ds_list = get_terraclimate_months(bbox, time_slice=time_slice, assets=assets, interp_dims=interp_dims, verbose=verbose)\n",
    "    # hard code in labels for quantities. order is abritrary from get_terraclimate_months\n",
    "    quantities = ['max','min','mean','std']\n",
    "\n",
    "        # sets_list is a list of lists of datasets, each dataset has data for each metric/quantity pair\n",
    "        # I need to unpack it twice. \n",
    "    sets_list = []\n",
    "    for count, ds in enumerate(ds_list):\n",
    "        sets = [\n",
    "            ds.sel(month=month\n",
    "                ).rename(\n",
    "            {var: ' '.join((str(month), var, quantities[count])) for var in list(ds.keys())}\n",
    "        ).drop_vars('month')\n",
    "        for month in ds.month.values\n",
    "        ]\n",
    "        sets_list.append(sets)\n",
    "    ds = xr.merge(\n",
    "            # unpack each list in sets_list and merge into a larger dataset\n",
    "        [xr.merge(sets_list[i]) for i in range(len(sets_list))]\n",
    "            # merge these larger datasets into a dataset and\n",
    "            # convert it into a data array, and rename the variable to band\n",
    "        ).to_array().rename(variable='band')   \n",
    "    return ds"
   ]
  },
  {
   "cell_type": "markdown",
   "id": "f1d9adcb-50e4-4cbf-bfed-015b5e3eb042",
   "metadata": {},
   "source": [
    "We collect the weather data from January 2015 to December 2019, giving us 5 years worth of data for each region. We have selected to use the maximum air temperature, minimum air temperature, precipitation, and soil moisture content as the measurements in our model."
   ]
  },
  {
   "cell_type": "code",
   "execution_count": 6,
   "id": "0b6e816f-cf88-4dba-8d1c-ccd1b5511704",
   "metadata": {},
   "outputs": [
    {
     "name": "stdout",
     "output_type": "stream",
     "text": [
      "Loading data\n",
      "Interpolating image\n",
      "Loading data\n",
      "Interpolating image\n",
      "Loading data\n",
      "Interpolating image\n",
      "Loading data\n",
      "Interpolating image\n",
      "Loading data\n",
      "Interpolating image\n",
      "Loading data\n",
      "Interpolating image\n",
      "Loading data\n",
      "Interpolating image\n",
      "Loading data\n",
      "Interpolating image\n",
      "Loading data\n",
      "Interpolating image\n"
     ]
    }
   ],
   "source": [
    "# Date range to take\n",
    "time_slice = ('2015-01-01','2019-12-31')\n",
    "\n",
    "# Measurements to take\n",
    "assets=['tmax', 'tmin', 'ppt', 'soil']\n",
    "\n",
    "interp_dims = (512, 512)\n",
    "\n",
    "weather_datas = []\n",
    "for bbox in bboxs:\n",
    "    weather_datas.append(\n",
    "        get_terraclimate(bbox, time_slice=time_slice, \n",
    "        assets=assets, interp_dims=interp_dims, verbose=True))"
   ]
  },
  {
   "cell_type": "markdown",
   "id": "d82da847-4814-43dd-b0e9-1cb34d69968d",
   "metadata": {},
   "source": [
    "# Data preparation "
   ]
  },
  {
   "cell_type": "markdown",
   "id": "215f91df-d057-4f99-861d-f78151790222",
   "metadata": {},
   "source": [
    "## Joining frogs to their climate data\n",
    "We use the included function to join the frogs to their matching weather data. We iterate over the regions and then combine to make one large dataset containing frogs and weather from all 9 regions."
   ]
  },
  {
   "cell_type": "code",
   "execution_count": 7,
   "id": "cccdc4a1-86ef-4056-bc99-46769eb38771",
   "metadata": {},
   "outputs": [
    {
     "data": {
      "text/html": [
       "<div>\n",
       "<style scoped>\n",
       "    .dataframe tbody tr th:only-of-type {\n",
       "        vertical-align: middle;\n",
       "    }\n",
       "\n",
       "    .dataframe tbody tr th {\n",
       "        vertical-align: top;\n",
       "    }\n",
       "\n",
       "    .dataframe thead th {\n",
       "        text-align: right;\n",
       "    }\n",
       "</style>\n",
       "<table border=\"1\" class=\"dataframe\">\n",
       "  <thead>\n",
       "    <tr style=\"text-align: right;\">\n",
       "      <th></th>\n",
       "      <th>gbifID</th>\n",
       "      <th>eventDate</th>\n",
       "      <th>country</th>\n",
       "      <th>continent</th>\n",
       "      <th>stateProvince</th>\n",
       "      <th>decimalLatitude</th>\n",
       "      <th>decimalLongitude</th>\n",
       "      <th>species</th>\n",
       "      <th>occurrenceStatus</th>\n",
       "      <th>key</th>\n",
       "      <th>...</th>\n",
       "      <th>9 soil min</th>\n",
       "      <th>9 soil std</th>\n",
       "      <th>9 tmax max</th>\n",
       "      <th>9 tmax mean</th>\n",
       "      <th>9 tmax min</th>\n",
       "      <th>9 tmax std</th>\n",
       "      <th>9 tmin max</th>\n",
       "      <th>9 tmin mean</th>\n",
       "      <th>9 tmin min</th>\n",
       "      <th>9 tmin std</th>\n",
       "    </tr>\n",
       "  </thead>\n",
       "  <tbody>\n",
       "    <tr>\n",
       "      <th>0</th>\n",
       "      <td>1633803922</td>\n",
       "      <td>2017-08-05 20:51:00</td>\n",
       "      <td>Australia</td>\n",
       "      <td>Australia</td>\n",
       "      <td>Victoria</td>\n",
       "      <td>-38.045122</td>\n",
       "      <td>145.326047</td>\n",
       "      <td>Crinia Signifera</td>\n",
       "      <td>0</td>\n",
       "      <td>0</td>\n",
       "      <td>...</td>\n",
       "      <td>58.0</td>\n",
       "      <td>64.724030</td>\n",
       "      <td>17.099998</td>\n",
       "      <td>16.540001</td>\n",
       "      <td>15.800003</td>\n",
       "      <td>0.535163</td>\n",
       "      <td>8.400002</td>\n",
       "      <td>7.180002</td>\n",
       "      <td>6.500000</td>\n",
       "      <td>0.652381</td>\n",
       "    </tr>\n",
       "    <tr>\n",
       "      <th>1</th>\n",
       "      <td>3384896595</td>\n",
       "      <td>2021-10-07 07:58:39</td>\n",
       "      <td>Australia</td>\n",
       "      <td>Australia</td>\n",
       "      <td>Victoria</td>\n",
       "      <td>-38.030947</td>\n",
       "      <td>145.432053</td>\n",
       "      <td>Crinia Signifera</td>\n",
       "      <td>0</td>\n",
       "      <td>1</td>\n",
       "      <td>...</td>\n",
       "      <td>133.0</td>\n",
       "      <td>58.321865</td>\n",
       "      <td>16.599998</td>\n",
       "      <td>16.080000</td>\n",
       "      <td>15.400002</td>\n",
       "      <td>0.526877</td>\n",
       "      <td>7.800003</td>\n",
       "      <td>6.600001</td>\n",
       "      <td>5.900002</td>\n",
       "      <td>0.648074</td>\n",
       "    </tr>\n",
       "    <tr>\n",
       "      <th>2</th>\n",
       "      <td>3463456338</td>\n",
       "      <td>2018-11-09 00:00:00</td>\n",
       "      <td>Australia</td>\n",
       "      <td>Australia</td>\n",
       "      <td>Victoria</td>\n",
       "      <td>-38.088716</td>\n",
       "      <td>145.722909</td>\n",
       "      <td>Crinia Signifera</td>\n",
       "      <td>0</td>\n",
       "      <td>2</td>\n",
       "      <td>...</td>\n",
       "      <td>98.0</td>\n",
       "      <td>69.232941</td>\n",
       "      <td>17.099998</td>\n",
       "      <td>16.620001</td>\n",
       "      <td>16.099998</td>\n",
       "      <td>0.396988</td>\n",
       "      <td>8.000000</td>\n",
       "      <td>6.720000</td>\n",
       "      <td>6.099998</td>\n",
       "      <td>0.661514</td>\n",
       "    </tr>\n",
       "    <tr>\n",
       "      <th>3</th>\n",
       "      <td>3463456499</td>\n",
       "      <td>2019-07-30 00:00:00</td>\n",
       "      <td>Australia</td>\n",
       "      <td>Australia</td>\n",
       "      <td>Victoria</td>\n",
       "      <td>-37.807553</td>\n",
       "      <td>145.263607</td>\n",
       "      <td>Crinia Signifera</td>\n",
       "      <td>0</td>\n",
       "      <td>3</td>\n",
       "      <td>...</td>\n",
       "      <td>80.0</td>\n",
       "      <td>42.371689</td>\n",
       "      <td>17.099998</td>\n",
       "      <td>16.480000</td>\n",
       "      <td>15.599998</td>\n",
       "      <td>0.620967</td>\n",
       "      <td>7.800003</td>\n",
       "      <td>6.560002</td>\n",
       "      <td>5.800003</td>\n",
       "      <td>0.671118</td>\n",
       "    </tr>\n",
       "    <tr>\n",
       "      <th>4</th>\n",
       "      <td>3463456516</td>\n",
       "      <td>2020-08-23 00:00:00</td>\n",
       "      <td>Australia</td>\n",
       "      <td>Australia</td>\n",
       "      <td>Victoria</td>\n",
       "      <td>-37.991842</td>\n",
       "      <td>145.118825</td>\n",
       "      <td>Crinia Signifera</td>\n",
       "      <td>0</td>\n",
       "      <td>4</td>\n",
       "      <td>...</td>\n",
       "      <td>18.0</td>\n",
       "      <td>37.986313</td>\n",
       "      <td>17.800003</td>\n",
       "      <td>17.160002</td>\n",
       "      <td>16.400002</td>\n",
       "      <td>0.595316</td>\n",
       "      <td>9.000000</td>\n",
       "      <td>7.740001</td>\n",
       "      <td>7.000000</td>\n",
       "      <td>0.674092</td>\n",
       "    </tr>\n",
       "  </tbody>\n",
       "</table>\n",
       "<p>5 rows × 202 columns</p>\n",
       "</div>"
      ],
      "text/plain": [
       "       gbifID           eventDate    country  continent stateProvince  \\\n",
       "0  1633803922 2017-08-05 20:51:00  Australia  Australia      Victoria   \n",
       "1  3384896595 2021-10-07 07:58:39  Australia  Australia      Victoria   \n",
       "2  3463456338 2018-11-09 00:00:00  Australia  Australia      Victoria   \n",
       "3  3463456499 2019-07-30 00:00:00  Australia  Australia      Victoria   \n",
       "4  3463456516 2020-08-23 00:00:00  Australia  Australia      Victoria   \n",
       "\n",
       "   decimalLatitude  decimalLongitude           species  occurrenceStatus  key  \\\n",
       "0       -38.045122        145.326047  Crinia Signifera                 0    0   \n",
       "1       -38.030947        145.432053  Crinia Signifera                 0    1   \n",
       "2       -38.088716        145.722909  Crinia Signifera                 0    2   \n",
       "3       -37.807553        145.263607  Crinia Signifera                 0    3   \n",
       "4       -37.991842        145.118825  Crinia Signifera                 0    4   \n",
       "\n",
       "   ...  9 soil min  9 soil std  9 tmax max  9 tmax mean  9 tmax min  \\\n",
       "0  ...        58.0   64.724030   17.099998    16.540001   15.800003   \n",
       "1  ...       133.0   58.321865   16.599998    16.080000   15.400002   \n",
       "2  ...        98.0   69.232941   17.099998    16.620001   16.099998   \n",
       "3  ...        80.0   42.371689   17.099998    16.480000   15.599998   \n",
       "4  ...        18.0   37.986313   17.800003    17.160002   16.400002   \n",
       "\n",
       "   9 tmax std  9 tmin max  9 tmin mean  9 tmin min  9 tmin std  \n",
       "0    0.535163    8.400002     7.180002    6.500000    0.652381  \n",
       "1    0.526877    7.800003     6.600001    5.900002    0.648074  \n",
       "2    0.396988    8.000000     6.720000    6.099998    0.661514  \n",
       "3    0.620967    7.800003     6.560002    5.800003    0.671118  \n",
       "4    0.595316    9.000000     7.740001    7.000000    0.674092  \n",
       "\n",
       "[5 rows x 202 columns]"
      ]
     },
     "execution_count": 7,
     "metadata": {},
     "output_type": "execute_result"
    }
   ],
   "source": [
    "def join_frogs(frogs, data):\n",
    "    \"\"\"Collects the data for each frog location and joins it onto the frog data \n",
    "\n",
    "    Arguments:\n",
    "    frogs -- dataframe containing the response variable along with [\"decimalLongitude\", \"decimalLatitude\", \"key\"]\n",
    "    data -- xarray dataarray of features, indexed with geocoordinates\n",
    "    \"\"\"\n",
    "    return frogs.merge(\n",
    "        (\n",
    "            data\n",
    "            .rename('data')\n",
    "            .sel(\n",
    "                x=xr.DataArray(frog_data.decimalLongitude, dims=\"key\", coords={\"key\": frog_data.key}), \n",
    "                y=xr.DataArray(frog_data.decimalLatitude, dims=\"key\", coords={\"key\": frog_data.key}),\n",
    "                method=\"nearest\"\n",
    "            )\n",
    "            .to_dataframe()\n",
    "            .assign(val = lambda x: x.iloc[:, -1])\n",
    "            [['val']]\n",
    "            .reset_index()\n",
    "            .drop_duplicates()\n",
    "            .pivot(index=\"key\", columns=\"band\", values=\"val\")\n",
    "            .reset_index()\n",
    "        ),\n",
    "        on = ['key'],\n",
    "        how = 'inner'\n",
    "    )\n",
    "model_datas = []\n",
    "for frog_data, weather_data in zip(frog_datas, weather_datas):    \n",
    "    model_datas.append(join_frogs(frog_data, weather_data))\n",
    "\n",
    "model_data = pd.concat(model_datas).dropna().reset_index(drop=True)\n",
    "model_data.head()"
   ]
  },
  {
   "cell_type": "markdown",
   "id": "909f18b5-bde5-49cc-821a-d16ec2ff0c16",
   "metadata": {},
   "source": [
    "## Downsampling data\n",
    "Our training dataset contained 25,733 absence points and 13,839 presence points over all the geographical areas sampled, a nearly 2:1 imbalance.\n",
    "\n",
    "We developed a method to downsample the absence points while preserving isolated ones. "
   ]
  },
  {
   "cell_type": "code",
   "execution_count": 8,
   "id": "ddc7faa4-0603-467a-ade6-14937daac912",
   "metadata": {},
   "outputs": [
    {
     "data": {
      "text/plain": [
       "occurrenceStatus\n",
       "0    25733\n",
       "1    13839\n",
       "dtype: int64"
      ]
     },
     "execution_count": 8,
     "metadata": {},
     "output_type": "execute_result"
    }
   ],
   "source": [
    "model_data.value_counts('occurrenceStatus')"
   ]
  },
  {
   "cell_type": "code",
   "execution_count": 9,
   "id": "52c1db18-84e7-4cbe-be27-72fd47fc57ee",
   "metadata": {},
   "outputs": [],
   "source": [
    "grid_size = 24\n",
    "\n",
    "target_species_frog_data = model_data[model_data.occurrenceStatus == 1]\n",
    "\n",
    "n = len(target_species_frog_data)\n",
    "\n",
    "keep = pd.DataFrame(columns=model_data.columns)\n",
    "to_downsample = pd.DataFrame(columns=model_data.columns)\n",
    "\n",
    "non_target_species_frog_data = model_data[model_data.occurrenceStatus == 0]\n",
    "\n",
    "for i in range(grid_size):\n",
    "    for j in range(grid_size):\n",
    "        for min_lon, min_lat, max_lon, max_lat in bboxs:\n",
    "            non_target_frogs_in_pixel = non_target_species_frog_data.loc[\n",
    "                (non_target_species_frog_data['decimalLatitude'] > min_lat + j/grid_size) & \n",
    "                (non_target_species_frog_data['decimalLatitude'] <= min_lat + (j+1)/grid_size) &\n",
    "                (non_target_species_frog_data['decimalLongitude'] > min_lon + i/grid_size) &\n",
    "                (non_target_species_frog_data['decimalLongitude'] <= min_lon + (i+1)/grid_size)\n",
    "            ]\n",
    "            if len(non_target_frogs_in_pixel) >= 1:\n",
    "                keep_in_pixel = non_target_frogs_in_pixel.sample(1)\n",
    "                keep = pd.concat((keep, keep_in_pixel))\n",
    "                to_downsample = pd.concat((to_downsample, non_target_frogs_in_pixel.drop(keep_in_pixel.index)))\n",
    "\n",
    "n_keep = len(keep)\n",
    "\n",
    "if n_keep < n:\n",
    "    keep = pd.concat((keep, to_downsample.sample(n - n_keep)))\n",
    "    \n",
    "model_data = (\n",
    "    keep\n",
    "    .append(target_species_frog_data)\n",
    "    # assign key for joining purposes\n",
    "    .reset_index(drop=True)\n",
    "    .assign(key=lambda x: x.index)\n",
    ")"
   ]
  },
  {
   "cell_type": "code",
   "execution_count": 10,
   "id": "7b7dfdbd-b02d-4010-85f0-6bc9e6c9a72d",
   "metadata": {},
   "outputs": [
    {
     "data": {
      "text/plain": [
       "occurrenceStatus\n",
       "0    13839\n",
       "1    13839\n",
       "dtype: int64"
      ]
     },
     "execution_count": 10,
     "metadata": {},
     "output_type": "execute_result"
    }
   ],
   "source": [
    "model_data.value_counts('occurrenceStatus')"
   ]
  },
  {
   "cell_type": "markdown",
   "id": "7ef3c9a3-0d83-4984-91e3-bea3f3fb9065",
   "metadata": {},
   "source": [
    "We have downsampled our off-target data points so that our model data contains an equal number of target and off-target data points, while preserving the isolated instances off-target frogs."
   ]
  },
  {
   "cell_type": "markdown",
   "id": "d8376bb2-5b53-4191-89d2-0daa68655a90",
   "metadata": {},
   "source": [
    "# Model building\n",
    "We chose to use a Random Forest Classifier model for this model. This gave us the most accurate predictions. "
   ]
  },
  {
   "cell_type": "code",
   "execution_count": 11,
   "id": "9e28af7d-8875-483c-ac5b-5bd1d3f11237",
   "metadata": {},
   "outputs": [],
   "source": [
    "from sklearn.pipeline import make_pipeline\n",
    "from sklearn.preprocessing import StandardScaler\n",
    "from sklearn.ensemble import RandomForestClassifier"
   ]
  },
  {
   "cell_type": "code",
   "execution_count": 12,
   "id": "bb4f8fb4-dbce-488f-a569-b42857054a8a",
   "metadata": {},
   "outputs": [
    {
     "data": {
      "text/plain": [
       "Pipeline(steps=[('standardscaler', StandardScaler()),\n",
       "                ('randomforestclassifier', RandomForestClassifier())])"
      ]
     },
     "execution_count": 12,
     "metadata": {},
     "output_type": "execute_result"
    }
   ],
   "source": [
    "full_model = make_pipeline(StandardScaler(), RandomForestClassifier())\n",
    "# Separate the predictor variables from the response\n",
    "X = (\n",
    "    model_data\n",
    "    .drop(['gbifID', 'eventDate', 'species',\n",
    "       'country', 'continent', 'stateProvince', 'occurrenceStatus', 'key', 'decimalLatitude', 'decimalLongitude'], 1)\n",
    ")\n",
    "y = model_data.occurrenceStatus.astype(int)\n",
    "\n",
    "# Fit model\n",
    "full_model.fit(X, y)"
   ]
  },
  {
   "cell_type": "markdown",
   "id": "2edd1e22-5081-4c24-aa5a-14ed20f5e2ab",
   "metadata": {},
   "source": [
    "## Hyperparameter optimization\n",
    "The built in functions for this task such as GridSearchCV kept crashing on my PC, so I wrote code to break the process into smaller parts and evaluated each individually. "
   ]
  },
  {
   "cell_type": "code",
   "execution_count": 13,
   "id": "bd83dc2c-5be5-4024-9425-31c71a94472c",
   "metadata": {},
   "outputs": [
    {
     "name": "stdout",
     "output_type": "stream",
     "text": [
      "class_weight: balanced F1 Score: 0.8699\n",
      "class_weight: balanced_subsample F1 Score: 0.8702\n"
     ]
    }
   ],
   "source": [
    "class_weight = ['balanced','balanced_subsample']\n",
    "for i in class_weight:\n",
    "    a =  make_pipeline(StandardScaler(), RandomForestClassifier(class_weight=i)).fit(X, y)\n",
    "    predictions = a.predict(X)\n",
    "    print('class_weight: '+i, f\"F1 Score: {np.mean(f1_score(y, predictions)).round(4)}\")\n"
   ]
  },
  {
   "cell_type": "code",
   "execution_count": 14,
   "id": "4aa0ffea-094e-4b54-a287-ebc677b47282",
   "metadata": {},
   "outputs": [
    {
     "name": "stdout",
     "output_type": "stream",
     "text": [
      "n_estimators: 10 F1 Score: 0.8698\n",
      "n_estimators: 50 F1 Score: 0.8699\n",
      "n_estimators: 100 F1 Score: 0.8703\n",
      "n_estimators: 200 F1 Score: 0.8702\n",
      "n_estimators: 300 F1 Score: 0.8703\n",
      "n_estimators: 400 F1 Score: 0.8702\n"
     ]
    }
   ],
   "source": [
    "n_estimators = [10, 50, 100, 200, 300, 400]\n",
    "for i in n_estimators:\n",
    "    a =  make_pipeline(StandardScaler(), RandomForestClassifier(n_estimators=i)).fit(X, y)\n",
    "    predictions = a.predict(X)\n",
    "    print(\"n_estimators: \"+str(i), f\"F1 Score: {np.mean(f1_score(y, predictions)).round(4)}\")\n"
   ]
  },
  {
   "cell_type": "code",
   "execution_count": 15,
   "id": "096b2859-6d26-4102-b9b5-f9a337a6acd6",
   "metadata": {},
   "outputs": [
    {
     "name": "stdout",
     "output_type": "stream",
     "text": [
      "min_samples_split: 2 F1 Score: 0.8702\n",
      "min_samples_split: 5 F1 Score: 0.8702\n",
      "min_samples_split: 10 F1 Score: 0.87\n",
      "min_samples_split: 15 F1 Score: 0.87\n",
      "min_samples_split: 20 F1 Score: 0.8697\n",
      "min_samples_split: 30 F1 Score: 0.8695\n"
     ]
    }
   ],
   "source": [
    "min_samples_split = [2, 5, 10, 15, 20, 30]\n",
    "for i in min_samples_split:\n",
    "    a =  make_pipeline(StandardScaler(), RandomForestClassifier(\n",
    "        min_samples_split=i,\n",
    "        class_weight='balanced',\n",
    "        n_estimators=300,\n",
    "    )).fit(X, y)\n",
    "    predictions = a.predict(X)\n",
    "    print(\"min_samples_split: \"+str(i), f\"F1 Score: {np.mean(f1_score(y, predictions)).round(4)}\")\n"
   ]
  },
  {
   "cell_type": "code",
   "execution_count": 16,
   "id": "a24324cf-1bd6-4591-a8c2-97102371e079",
   "metadata": {},
   "outputs": [
    {
     "name": "stdout",
     "output_type": "stream",
     "text": [
      "n_estimators: 200 F1 Score: 0.8702\n",
      "n_estimators: 225 F1 Score: 0.8702\n",
      "n_estimators: 250 F1 Score: 0.8702\n",
      "n_estimators: 275 F1 Score: 0.8702\n",
      "n_estimators: 300 F1 Score: 0.8701\n"
     ]
    }
   ],
   "source": [
    "n_estimators = [200, 225, 250, 275, 300]\n",
    "for i in n_estimators:\n",
    "    a =  make_pipeline(StandardScaler(), RandomForestClassifier(\n",
    "        n_estimators=i,\n",
    "        class_weight='balanced',\n",
    "        min_samples_split=5,\n",
    "    )).fit(X,y)\n",
    "    predictions = a.predict(X)\n",
    "    print(\"n_estimators: \"+str(i), f\"F1 Score: {np.mean(f1_score(y, predictions)).round(4)}\")\n"
   ]
  },
  {
   "cell_type": "markdown",
   "id": "3cee4d49-6eea-4641-af02-e3b807a9c187",
   "metadata": {},
   "source": [
    "Re-evaluate the `class_weight` options with the refined values of `n_estimators` and `min_sample_split`."
   ]
  },
  {
   "cell_type": "code",
   "execution_count": 17,
   "id": "0f363e6c-590f-4f27-8021-ffb4001a5d08",
   "metadata": {},
   "outputs": [
    {
     "name": "stdout",
     "output_type": "stream",
     "text": [
      "class_weight: balanced F1 Score: 0.8702\n",
      "class_weight: balanced_subsample F1 Score: 0.8703\n"
     ]
    }
   ],
   "source": [
    "class_weight = ['balanced','balanced_subsample']\n",
    "for i in class_weight:\n",
    "    a =  make_pipeline(StandardScaler(), RandomForestClassifier(\n",
    "        n_estimators=250,\n",
    "        class_weight=i,\n",
    "        min_samples_split=5,\n",
    "    )).fit(X,y)\n",
    "    predictions = a.predict(X)\n",
    "    print(\"class_weight: \"+i, f\"F1 Score: {np.mean(f1_score(y, predictions)).round(4)}\")\n"
   ]
  },
  {
   "cell_type": "markdown",
   "id": "54130e74-55c3-470f-8704-f96bb4f41ad2",
   "metadata": {},
   "source": [
    "## Model training\n",
    "Using the hyperparameters determined from the above process, we train our model with the downsampled data."
   ]
  },
  {
   "cell_type": "code",
   "execution_count": 18,
   "id": "79d18987-0ec0-4630-9cbf-ff573d2b206a",
   "metadata": {},
   "outputs": [
    {
     "data": {
      "text/plain": [
       "Pipeline(steps=[('standardscaler', StandardScaler()),\n",
       "                ('randomforestclassifier',\n",
       "                 RandomForestClassifier(class_weight='balanced_subsample',\n",
       "                                        min_samples_split=5,\n",
       "                                        n_estimators=250))])"
      ]
     },
     "execution_count": 18,
     "metadata": {},
     "output_type": "execute_result"
    }
   ],
   "source": [
    "full_model = make_pipeline(StandardScaler(), RandomForestClassifier(\n",
    "    n_estimators=250,\n",
    "    class_weight='balanced_subsample',\n",
    "    min_samples_split=5,\n",
    "    ))\n",
    "# Separate the predictor variables from the response\n",
    "X = (\n",
    "    model_data\n",
    "    .drop(['gbifID', 'eventDate', 'species',\n",
    "       'country', 'continent', 'stateProvince', 'occurrenceStatus', 'key', 'decimalLatitude', 'decimalLongitude'], 1)\n",
    ")\n",
    "y = model_data.occurrenceStatus.astype(int)\n",
    "\n",
    "# Fit model\n",
    "full_model.fit(X, y)"
   ]
  },
  {
   "cell_type": "markdown",
   "id": "e8fca8a6-b1f8-421c-b80a-dc72ab747fa8",
   "metadata": {},
   "source": [
    "# Results on train/test data\n",
    "## In-sample results\n",
    "Predict the frogs in the training set from the weather data in the training set."
   ]
  },
  {
   "cell_type": "code",
   "execution_count": 19,
   "id": "df5e1666-58d7-4d3b-84f5-d00ab9836890",
   "metadata": {},
   "outputs": [],
   "source": [
    "in_sample_predictions = full_model.predict(X)"
   ]
  },
  {
   "cell_type": "markdown",
   "id": "e4285c43-fb8b-48be-ba8b-e09ff77db73a",
   "metadata": {},
   "source": [
    "## Out-of-sample results\n",
    "### Stratified k-fold cross validation"
   ]
  },
  {
   "cell_type": "code",
   "execution_count": 20,
   "id": "ffb15285-b678-4e88-9410-5daee725034a",
   "metadata": {},
   "outputs": [
    {
     "name": "stdout",
     "output_type": "stream",
     "text": [
      "Fold 1 of 10\n",
      "Fold 2 of 10\n",
      "Fold 3 of 10\n",
      "Fold 4 of 10\n",
      "Fold 5 of 10\n",
      "Fold 6 of 10\n",
      "Fold 7 of 10\n",
      "Fold 8 of 10\n",
      "Fold 9 of 10\n",
      "Fold 10 of 10\n"
     ]
    }
   ],
   "source": [
    "cv_model = full_model\n",
    "\n",
    "n_folds = 10\n",
    "\n",
    "skf = StratifiedKFold(n_splits=n_folds, random_state=420, shuffle=True)\n",
    "metrics = {'F1': f1_score, 'Accuracy': accuracy_score}\n",
    "results = {'predicted':[], 'actual':[]}\n",
    "scores = {'F1': [], 'Accuracy': []}\n",
    "\n",
    "for i, (train_index, test_index) in enumerate(skf.split(X, y)):\n",
    "    # Split the dataset\n",
    "    print(f\"Fold {i+1} of {n_folds}\")\n",
    "    X_train, X_test = X.loc[train_index], X.loc[test_index]\n",
    "    y_train, y_test = y[train_index], y[test_index]\n",
    "    \n",
    "    # Fit the model with the training set\n",
    "    cv_model.fit(X_train, y_train)\n",
    "    \n",
    "    predictions = cv_model.predict(X_test)\n",
    "    \n",
    "    for metric, fn in metrics.items():\n",
    "        scores[metric].append(fn(y_test, predictions))\n",
    "        \n",
    "    results['predicted'].extend(predictions)\n",
    "    results['actual'].extend(list(y_test))\n"
   ]
  },
  {
   "cell_type": "markdown",
   "id": "b66b13df-1857-4c7c-8283-5ddcb408d532",
   "metadata": {},
   "source": [
    "### Evaluation regions dataset\n",
    "Construct a testing dataset from the 5 evaluation regions with no down-sampling."
   ]
  },
  {
   "cell_type": "code",
   "execution_count": 21,
   "id": "ff15e743-4e2e-4643-aeae-363704e92390",
   "metadata": {},
   "outputs": [],
   "source": [
    "test_data = pd.concat(model_datas[0:5]).dropna().reset_index(drop=True)"
   ]
  },
  {
   "cell_type": "code",
   "execution_count": 22,
   "id": "7d055f02-cf89-426e-bc9f-10e972634fbf",
   "metadata": {},
   "outputs": [],
   "source": [
    "test_X = (\n",
    "    test_data\n",
    "    .drop(['gbifID', 'eventDate', 'species',\n",
    "       'country', 'continent', 'stateProvince', 'occurrenceStatus', 'key', 'decimalLatitude', 'decimalLongitude'], 1)\n",
    ")\n",
    "test_y = test_data.occurrenceStatus.astype(int)\n",
    "out_of_sample_preds = full_model.predict(test_X)"
   ]
  },
  {
   "cell_type": "markdown",
   "id": "482f3bcc-4556-4815-9ea9-89b0bec3645b",
   "metadata": {},
   "source": [
    "# Accuracy metrics \n",
    "## In-sample results"
   ]
  },
  {
   "cell_type": "code",
   "execution_count": 23,
   "id": "88989a6a-e2ac-406b-a569-b5475333e180",
   "metadata": {},
   "outputs": [
    {
     "name": "stdout",
     "output_type": "stream",
     "text": [
      "In sample F1 Score: 0.87\n",
      "In sample Accuracy: 0.86\n"
     ]
    }
   ],
   "source": [
    "print(\"In sample \"+f\"F1 Score: {np.mean(f1_score(y, in_sample_predictions)).round(2)}\")\n",
    "print(\"In sample \"+f\"Accuracy: {np.mean(accuracy_score(y, in_sample_predictions)).round(2)}\")"
   ]
  },
  {
   "cell_type": "code",
   "execution_count": 24,
   "id": "b7a295b8-4dbd-4237-99e6-0fa441f06a80",
   "metadata": {},
   "outputs": [
    {
     "data": {
      "image/png": "[encoded data removed]",
      "text/plain": [
       "<Figure size 504x504 with 2 Axes>"
      ]
     },
     "metadata": {
      "needs_background": "light"
     },
     "output_type": "display_data"
    }
   ],
   "source": [
    "# Visualise the results in a confusion matrix\n",
    "disp = ConfusionMatrixDisplay.from_estimator(full_model, X, y, display_labels=['Absent', 'Present'], cmap='Blues')\n",
    "disp.figure_.set_size_inches((7, 7))\n",
    "disp.ax_.set_title('Random Forest Classifier\\nIn-Sample Results')\n",
    "plt.show()"
   ]
  },
  {
   "cell_type": "markdown",
   "id": "6302e5a8-dbca-48dc-8447-bf510e113fe4",
   "metadata": {},
   "source": [
    "## Out-of-sample accuracy metrics\n",
    "### Stratified k-folds accuracy metrics"
   ]
  },
  {
   "cell_type": "code",
   "execution_count": 25,
   "id": "bad80482-8651-48fc-99fe-b63806d3d433",
   "metadata": {},
   "outputs": [
    {
     "name": "stdout",
     "output_type": "stream",
     "text": [
      "\n",
      "Metrics averaged over 10 trials:\n",
      "F1: 0.86\n",
      "Accuracy: 0.85\n"
     ]
    }
   ],
   "source": [
    "print(f'\\nMetrics averaged over {n_folds} trials:')\n",
    "for metric, result in scores.items():\n",
    "    print(f\"{metric}: {np.mean(result).round(2)}\")"
   ]
  },
  {
   "cell_type": "code",
   "execution_count": 26,
   "id": "dcab1a63-e9a5-4c93-b321-7fd443bd28ad",
   "metadata": {},
   "outputs": [
    {
     "data": {
      "image/png": "[encoded data removed]",
      "text/plain": [
       "<Figure size 504x504 with 2 Axes>"
      ]
     },
     "metadata": {
      "needs_background": "light"
     },
     "output_type": "display_data"
    }
   ],
   "source": [
    "# Visualise the results in a confusion matrix\n",
    "disp = ConfusionMatrixDisplay.from_predictions(results['actual'], results['predicted'], display_labels=['Absent', 'Present'], cmap='Blues')\n",
    "disp.figure_.set_size_inches((7, 7))\n",
    "disp.ax_.set_title('Random Forest Model\\n10-fold Cross Validation Results')\n",
    "plt.show()"
   ]
  },
  {
   "cell_type": "markdown",
   "id": "49b7b65e-86c4-4eed-9291-e9a47dc88903",
   "metadata": {},
   "source": [
    "### Evaluation regions dataset accuracy metrics"
   ]
  },
  {
   "cell_type": "code",
   "execution_count": 27,
   "id": "8c790934-62ef-4f32-8645-973fdbbc6cad",
   "metadata": {},
   "outputs": [
    {
     "name": "stdout",
     "output_type": "stream",
     "text": [
      "F1 Score: 0.76\n",
      "Accuracy: 0.8\n"
     ]
    }
   ],
   "source": [
    "print(\"Out of sample \"+f\"F1 Score: {np.mean(f1_score(test_y, out_of_sample_preds)).round(2)}\")\n",
    "print(\"Out of sample \"+f\"Accuracy: {np.mean(accuracy_score(test_y, out_of_sample_preds)).round(2)}\")"
   ]
  },
  {
   "cell_type": "code",
   "execution_count": 28,
   "id": "f55a22d0-2fdf-48b5-be06-eacf316b9c07",
   "metadata": {},
   "outputs": [
    {
     "data": {
      "image/png": "[encoded data removed]",
      "text/plain": [
       "<Figure size 504x504 with 2 Axes>"
      ]
     },
     "metadata": {
      "needs_background": "light"
     },
     "output_type": "display_data"
    }
   ],
   "source": [
    "# Visualise the results in a confusion matrix\n",
    "disp = ConfusionMatrixDisplay.from_estimator(full_model, test_X, test_y,\n",
    "                                             display_labels=['Absent', 'Present'], cmap='Blues')\n",
    "disp.figure_.set_size_inches((7, 7))\n",
    "disp.ax_.set_title('Random Forest Model\\nOut of sample Results')\n",
    "plt.show()"
   ]
  },
  {
   "cell_type": "markdown",
   "id": "111bb4bc-776d-4012-b5d1-b74887b6f0ac",
   "metadata": {},
   "source": [
    "# Pickling the model "
   ]
  },
  {
   "cell_type": "code",
   "execution_count": 29,
   "id": "e02828b1-d6c9-4c4b-b1cb-e34058ef980e",
   "metadata": {},
   "outputs": [],
   "source": [
    "import pickle"
   ]
  },
  {
   "cell_type": "code",
   "execution_count": 31,
   "id": "827c75b8-9424-4893-9798-315555d6a0d2",
   "metadata": {},
   "outputs": [],
   "source": [
    "with open('rob_and_lealia_model.pkl','wb') as outpickle:\n",
    "    pickle.dump(full_model, outpickle, pickle.HIGHEST_PROTOCOL)"
   ]
  }
 ],
 "metadata": {
  "kernelspec": {
   "display_name": "Python 3 (ipykernel)",
   "language": "python",
   "name": "python3"
  },
  "language_info": {
   "codemirror_mode": {
    "name": "ipython",
    "version": 3
   },
   "file_extension": ".py",
   "mimetype": "text/x-python",
   "name": "python",
   "nbconvert_exporter": "python",
   "pygments_lexer": "ipython3",
   "version": "3.8.12"
  }
 },
 "nbformat": 4,
 "nbformat_minor": 5
}
