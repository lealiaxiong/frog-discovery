{
 "cells": [
  {
   "cell_type": "code",
   "execution_count": 1,
   "id": "12107f4c-9e3c-4d63-bc3c-8aab1374d8c7",
   "metadata": {},
   "outputs": [],
   "source": [
    "import pickle\n",
    "from sklearn.pipeline import make_pipeline\n",
    "from sklearn.preprocessing import StandardScaler\n",
    "from sklearn.ensemble import RandomForestClassifier\n",
    "# Supress Warnings \n",
    "import warnings\n",
    "warnings.filterwarnings('ignore')\n",
    "\n",
    "# Plotting\n",
    "import matplotlib.pyplot as plt\n",
    "\n",
    "# Data science\n",
    "import pandas as pd\n",
    "import numpy as np\n",
    "\n",
    "# Machine Learning\n",
    "from sklearn.linear_model import LogisticRegression\n",
    "from sklearn.metrics import f1_score, accuracy_score, ConfusionMatrixDisplay\n",
    "from sklearn.model_selection import StratifiedKFold\n",
    "\n",
    "# Geospatial\n",
    "import contextily as cx\n",
    "import xarray as xr\n",
    "import zarr # Not referenced, but required for xarray\n",
    "\n",
    "# Import Planetary Computer tools\n",
    "import fsspec\n",
    "import pystac\n",
    "\n",
    "# Other\n",
    "import os\n",
    "import zipfile\n",
    "from itertools import cycle\n",
    "\n",
    "# Path to data folder with provided material\n",
    "data_path = '..//../'"
   ]
  },
  {
   "cell_type": "code",
   "execution_count": 2,
   "id": "c65788fc-9fc8-4b0b-acd2-228f235b5633",
   "metadata": {},
   "outputs": [],
   "source": [
    "# load functions needed\n",
    "def filter_bbox(frogs, bbox):\n",
    "    frogs = frogs[lambda x: \n",
    "        (x.decimalLongitude >= bbox[0]) &\n",
    "        (x.decimalLatitude >= bbox[1]) &\n",
    "        (x.decimalLongitude <= bbox[2]) &\n",
    "        (x.decimalLatitude <= bbox[3])\n",
    "    ]\n",
    "    return frogs\n",
    "\n",
    "def get_terraclimate_all(bbox, time_slice=None, assets=None, interp_dims=None, verbose=True):\n",
    "    \"\"\"Returns terraclimate data.\n",
    "    \n",
    "    Attributes:\n",
    "    bbox -- Tuple of (min_lon, min_lat, max_lon, max_lat) to define area\n",
    "    time_slice -- Tuple of datetime strings to select data between, e.g. ('2015-01-01','2019-12-31')\n",
    "    assets -- list of terraclimate assets to take\n",
    "    \"\"\"\n",
    "    min_lon, min_lat, max_lon, max_lat = bbox\n",
    "    \n",
    "    collection = pystac.read_file(\"https://planetarycomputer.microsoft.com/api/stac/v1/collections/terraclimate\")\n",
    "    asset = collection.assets[\"zarr-https\"]\n",
    "    store = fsspec.get_mapper(asset.href)\n",
    "    data = xr.open_zarr(store, **asset.extra_fields[\"xarray:open_kwargs\"])\n",
    "    \n",
    "    # Select datapoints that overlap region\n",
    "    if time_slice is not None:\n",
    "        data = data.sel(lon=slice(min_lon,max_lon),lat=slice(max_lat,min_lat),time=slice(time_slice[0],time_slice[1]))\n",
    "    else:\n",
    "        data = data.sel(lon=slice(min_lon,max_lon),lat=slice(max_lat,min_lat))\n",
    "    if assets is not None:\n",
    "        data = data[assets]\n",
    "    print('Loading data') if verbose else None\n",
    "    data = data.rename(lat='y', lon='x').compute()\n",
    "    \n",
    "    if interp_dims is not None:\n",
    "        print(f'Interpolating image') if verbose else None\n",
    "        interp_coords = (np.linspace(bbox[0], bbox[2], interp_dims[0]), np.linspace(bbox[1], bbox[3], interp_dims[1]))\n",
    "        data = data.interp(x=interp_coords[0], y=interp_coords[1], method='nearest', kwargs={\"fill_value\": \"extrapolate\"})\n",
    "    \n",
    "    return data\n",
    "\n",
    "def get_terraclimate_months(bbox, time_slice=None, assets=None, interp_dims=None, verbose=True):\n",
    "    \"\"\"Get weather data and take mean by month.\"\"\"\n",
    "    ds = get_terraclimate_all(bbox, time_slice=time_slice, assets=assets, interp_dims=interp_dims, verbose=verbose)\n",
    "    ds_month = [ds.groupby('time.month').max(dim='time'), \n",
    "                ds.groupby('time.month').min(dim='time'),\n",
    "                ds.groupby('time.month').mean(dim='time'),\n",
    "                ds.groupby('time.month').std(dim='time')]    \n",
    "    return ds_month\n",
    "\n",
    "def get_terraclimate(bbox, time_slice=None, assets=None, interp_dims=None, verbose=True):\n",
    "    \"\"\"Get weather data and take mean by month and make each month/asset a new variable.\"\"\"\n",
    "    ds_list = get_terraclimate_months(bbox, time_slice=time_slice, assets=assets, interp_dims=interp_dims, verbose=verbose)\n",
    "    # hard code in labels for quantities. order is abritrary from get_terraclimate_months\n",
    "    quantities = ['max','min','mean','std']\n",
    "\n",
    "        # sets_list is a list of lists of datasets, each dataset has data for each metric/quantity pair\n",
    "        # I need to unpack it twice. \n",
    "    sets_list = []\n",
    "    for count, ds in enumerate(ds_list):\n",
    "        sets = [\n",
    "            ds.sel(month=month\n",
    "                ).rename(\n",
    "            {var: ' '.join((str(month), var, quantities[count])) for var in list(ds.keys())}\n",
    "        ).drop_vars('month')\n",
    "        for month in ds.month.values\n",
    "        ]\n",
    "        sets_list.append(sets)\n",
    "    ds = xr.merge(\n",
    "            # unpack each list in sets_list and merge into a larger dataset\n",
    "        [xr.merge(sets_list[i]) for i in range(len(sets_list))]\n",
    "            # merge these larger datasets into a dataset and\n",
    "            # convert it into a data array, and rename the variable to band\n",
    "        ).to_array().rename(variable='band')   \n",
    "    return ds\n",
    "\n",
    "def predict_frogs(predictor_image, model):\n",
    "    \"\"\"Returns a (1, n, m) xarray where each pixel value corresponds to the probability of a frog occurrence.\n",
    "    \n",
    "    Takes in the multi-band image outputted by the `create_predictor_image` function as well as the\n",
    "    trained model and returns the predictions for each pixel value. Firstly, the $x$ and $y$ indexes\n",
    "    in the predictor image are stacked into one multi-index $z=(x, y)$ to produce an $k\\times n$\n",
    "    array, which is the format required to feed into our logistic regression model. Then, the array\n",
    "    is fed into the model, returning the model's predictions for the frog likelihood at each pixel. \n",
    "    The predicted probabilities are then indexed by the same multi-index $z$ as before, which allows \n",
    "    the array to be unstacked and returned as a one-band image, ready for plotting.\n",
    "\n",
    "    Arguments:\n",
    "    predictor_image -- (K, n, m) xarray, where K is the number of predictor variables.\n",
    "    model -- sklearn model with K predictor variables.\n",
    "    \"\"\"\n",
    "    # Stack up pixels so they are in the appropriate format for the model\n",
    "    predictor_image = predictor_image.stack(z=(\"y\", \"x\")).transpose()\n",
    "    # Reorder variables to be in same order as model\n",
    "    predictor_image = predictor_image.sel(band=model.feature_names_in_)\n",
    "    # Location of null values so that we can skip them (prediction model will break if nulls are present)\n",
    "    null_pixels = (np.sum(predictor_image.isnull(), axis=-1) > 0)\n",
    "     # Empty probabilities array\n",
    "    probabilities = np.zeros((len(null_pixels), 2))\n",
    "    # Calculate probability for each non-null pixel point\n",
    "    probabilities[~null_pixels] = model.predict_proba(\n",
    "        predictor_image[~null_pixels]\n",
    "    )\n",
    "    # Set null pixels to a probability of null\n",
    "    probabilities[null_pixels] = np.array([np.nan, np.nan])\n",
    "    # Just take probability of frog (class=1)\n",
    "    probabilities = probabilities[:,1]\n",
    "    # Add the coordinates to the probabilities, saving them in an xarray\n",
    "    resultant_image = xr.DataArray(\n",
    "        data=probabilities,\n",
    "        dims=['z'],\n",
    "        coords=dict(\n",
    "            z=predictor_image.z\n",
    "        )\n",
    "    )\n",
    "    # Unstack the image\n",
    "    resultant_image = resultant_image.unstack()\n",
    "    return resultant_image"
   ]
  },
  {
   "cell_type": "code",
   "execution_count": 3,
   "id": "4fdc326f-32f0-4b9b-8c90-360f6acf2a5b",
   "metadata": {},
   "outputs": [],
   "source": [
    "with open('rob_and_lealia_model.pkl','rb') as inpickle:\n",
    "    full_model = pickle.load(inpickle)\n",
    "time_slice = ('2015-01-01','2019-12-31')\n",
    "assets=['tmax', 'tmin', 'ppt', 'soil']"
   ]
  },
  {
   "cell_type": "code",
   "execution_count": 4,
   "id": "5659ccfd-5df5-441c-b97b-9ce15c995938",
   "metadata": {},
   "outputs": [],
   "source": [
    "# Load in test coordinates\n",
    "test_file = pd.read_csv('challenge_1_submission_template.csv')\n",
    "# Read in test regions\n",
    "test_1_regions = []\n",
    "with open('challenge_1_test_regions.txt', 'r') as file: \n",
    "    for i, line in enumerate(file):\n",
    "        if i > 0:\n",
    "            test_1_regions.append(eval(\"(\"+line+\")\"))\n",
    "# Load in regions and save as list of dictionaries.\n",
    "test_regions = [{'title':i, 'bbox':bbox} for i, bbox in enumerate(test_1_regions)]"
   ]
  },
  {
   "cell_type": "markdown",
   "id": "54e0761b-3e30-4aeb-b3a0-d8cbceb83d98",
   "metadata": {},
   "source": [
    "Note: with the TerraClimate parameters we have set, some areas of each region contain nulls. If this is the case, the prediction will return a null, which evaluates to false when we create the binary mask."
   ]
  },
  {
   "cell_type": "code",
   "execution_count": 5,
   "id": "951ad164-3896-4b9e-895c-04a101854d56",
   "metadata": {},
   "outputs": [
    {
     "name": "stdout",
     "output_type": "stream",
     "text": [
      "Loading data\n"
     ]
    },
    {
     "data": {
      "image/png": "[encoded data removed]",
      "text/plain": [
       "<Figure size 432x288 with 2 Axes>"
      ]
     },
     "metadata": {
      "needs_background": "light"
     },
     "output_type": "display_data"
    },
    {
     "name": "stdout",
     "output_type": "stream",
     "text": [
      "Loading data\n"
     ]
    },
    {
     "data": {
      "image/png": "[encoded data removed]",
      "text/plain": [
       "<Figure size 432x288 with 2 Axes>"
      ]
     },
     "metadata": {
      "needs_background": "light"
     },
     "output_type": "display_data"
    },
    {
     "name": "stdout",
     "output_type": "stream",
     "text": [
      "Loading data\n"
     ]
    },
    {
     "data": {
      "image/png": "[encoded data removed]",
      "text/plain": [
       "<Figure size 432x288 with 2 Axes>"
      ]
     },
     "metadata": {
      "needs_background": "light"
     },
     "output_type": "display_data"
    },
    {
     "name": "stdout",
     "output_type": "stream",
     "text": [
      "Loading data\n"
     ]
    },
    {
     "data": {
      "image/png": "[encoded data removed]",
      "text/plain": [
       "<Figure size 432x288 with 2 Axes>"
      ]
     },
     "metadata": {
      "needs_background": "light"
     },
     "output_type": "display_data"
    },
    {
     "name": "stdout",
     "output_type": "stream",
     "text": [
      "Loading data\n"
     ]
    },
    {
     "data": {
      "image/png": "[encoded data removed]",
      "text/plain": [
       "<Figure size 432x288 with 2 Axes>"
      ]
     },
     "metadata": {
      "needs_background": "light"
     },
     "output_type": "display_data"
    }
   ],
   "source": [
    "# Obtain predictor data for each region and get predictor image\n",
    "for region in test_regions:\n",
    "    region['coords'] = filter_bbox(test_file[['id', 'decimalLongitude', 'decimalLatitude']], region['bbox'])\n",
    "    region['predictors'] = get_terraclimate(region['bbox'], time_slice=time_slice, assets=assets)\n",
    "    region['result'] = predict_frogs(region['predictors'], full_model) > 0.5\n",
    "    \n",
    "    region['result'].plot.imshow(x='x', y='y', vmin=0, vmax=1)\n",
    "    plt.show()\n",
    "    "
   ]
  },
  {
   "cell_type": "markdown",
   "id": "e9248c8e-d23c-4ccb-a973-6a6ca1e10a4f",
   "metadata": {},
   "source": [
    "We can now use these classification regions to assign predictions for each of the coordinates specified in the test file. We do this in a similar way to the `join_frogs` function we defined earlier, except in this case we are joining a prediction to each coordinate.\n"
   ]
  },
  {
   "cell_type": "code",
   "execution_count": 6,
   "id": "ad17b1ca-00d1-48b3-993f-ddaf6c512cbf",
   "metadata": {},
   "outputs": [],
   "source": [
    "predictions = pd.DataFrame()\n",
    "\n",
    "for region in test_regions:\n",
    "    preds = (\n",
    "        region['result'].rename('occurrenceStatus')\n",
    "        .sel(\n",
    "            x=xr.DataArray(region['coords'].decimalLongitude, dims=\"id\", coords={\"id\": region['coords'].id}), \n",
    "            y=xr.DataArray(region['coords'].decimalLatitude, dims=\"id\", coords={\"id\": region['coords'].id}),\n",
    "            method=\"nearest\"\n",
    "        )\n",
    "        .to_dataframe()\n",
    "        .reset_index()\n",
    "        .rename(columns={'x':'decimalLongitude', 'y':'decimalLatitude'})\n",
    "    )\n",
    "    predictions = predictions.append(preds)\n",
    "            \n",
    "submission = (    \n",
    "    predictions.merge(\n",
    "        test_file, \n",
    "        on=['decimalLongitude', 'decimalLatitude'], \n",
    "        how='left', suffixes = ('', '_'))\n",
    "    [test_file.columns]\n",
    "    .fillna(0)\n",
    "    .astype({col:'int' for col in test_file.columns[3::]})\n",
    ")\n"
   ]
  },
  {
   "cell_type": "markdown",
   "id": "a791cbc0-5b3b-4613-8351-6f17da07f981",
   "metadata": {},
   "source": [
    "What we are left with is a submission file with three columns: decimalLatitude, decimalLongitude, and occurrenceStatus. This is the file you will submit to the EY Data Science Challenge platform to receive your score on the leaderboard."
   ]
  },
  {
   "cell_type": "code",
   "execution_count": 20,
   "id": "818ce250-181c-47b7-b7b6-fec5a4d9c9b4",
   "metadata": {},
   "outputs": [
    {
     "data": {
      "text/html": [
       "<div>\n",
       "<style scoped>\n",
       "    .dataframe tbody tr th:only-of-type {\n",
       "        vertical-align: middle;\n",
       "    }\n",
       "\n",
       "    .dataframe tbody tr th {\n",
       "        vertical-align: top;\n",
       "    }\n",
       "\n",
       "    .dataframe thead th {\n",
       "        text-align: right;\n",
       "    }\n",
       "</style>\n",
       "<table border=\"1\" class=\"dataframe\">\n",
       "  <thead>\n",
       "    <tr style=\"text-align: right;\">\n",
       "      <th></th>\n",
       "      <th>id</th>\n",
       "      <th>decimalLatitude</th>\n",
       "      <th>decimalLongitude</th>\n",
       "      <th>occurrenceStatus</th>\n",
       "    </tr>\n",
       "  </thead>\n",
       "  <tbody>\n",
       "    <tr>\n",
       "      <th>0</th>\n",
       "      <td>0</td>\n",
       "      <td>-37.937500</td>\n",
       "      <td>145.187500</td>\n",
       "      <td>0</td>\n",
       "    </tr>\n",
       "    <tr>\n",
       "      <th>1</th>\n",
       "      <td>1</td>\n",
       "      <td>-37.770833</td>\n",
       "      <td>144.979167</td>\n",
       "      <td>0</td>\n",
       "    </tr>\n",
       "    <tr>\n",
       "      <th>2</th>\n",
       "      <td>2</td>\n",
       "      <td>-37.979167</td>\n",
       "      <td>145.354167</td>\n",
       "      <td>0</td>\n",
       "    </tr>\n",
       "    <tr>\n",
       "      <th>3</th>\n",
       "      <td>3</td>\n",
       "      <td>-37.604167</td>\n",
       "      <td>145.020833</td>\n",
       "      <td>0</td>\n",
       "    </tr>\n",
       "    <tr>\n",
       "      <th>4</th>\n",
       "      <td>4</td>\n",
       "      <td>-38.479167</td>\n",
       "      <td>145.645833</td>\n",
       "      <td>0</td>\n",
       "    </tr>\n",
       "    <tr>\n",
       "      <th>...</th>\n",
       "      <td>...</td>\n",
       "      <td>...</td>\n",
       "      <td>...</td>\n",
       "      <td>...</td>\n",
       "    </tr>\n",
       "    <tr>\n",
       "      <th>4046</th>\n",
       "      <td>4046</td>\n",
       "      <td>-31.895833</td>\n",
       "      <td>116.145833</td>\n",
       "      <td>0</td>\n",
       "    </tr>\n",
       "    <tr>\n",
       "      <th>4047</th>\n",
       "      <td>4047</td>\n",
       "      <td>-32.395833</td>\n",
       "      <td>115.770833</td>\n",
       "      <td>0</td>\n",
       "    </tr>\n",
       "    <tr>\n",
       "      <th>4048</th>\n",
       "      <td>4048</td>\n",
       "      <td>-32.145833</td>\n",
       "      <td>115.854167</td>\n",
       "      <td>0</td>\n",
       "    </tr>\n",
       "    <tr>\n",
       "      <th>4049</th>\n",
       "      <td>4049</td>\n",
       "      <td>-31.812500</td>\n",
       "      <td>116.229167</td>\n",
       "      <td>0</td>\n",
       "    </tr>\n",
       "    <tr>\n",
       "      <th>4050</th>\n",
       "      <td>4050</td>\n",
       "      <td>-31.562500</td>\n",
       "      <td>116.062500</td>\n",
       "      <td>0</td>\n",
       "    </tr>\n",
       "  </tbody>\n",
       "</table>\n",
       "<p>4051 rows × 4 columns</p>\n",
       "</div>"
      ],
      "text/plain": [
       "        id  decimalLatitude  decimalLongitude  occurrenceStatus\n",
       "0        0       -37.937500        145.187500                 0\n",
       "1        1       -37.770833        144.979167                 0\n",
       "2        2       -37.979167        145.354167                 0\n",
       "3        3       -37.604167        145.020833                 0\n",
       "4        4       -38.479167        145.645833                 0\n",
       "...    ...              ...               ...               ...\n",
       "4046  4046       -31.895833        116.145833                 0\n",
       "4047  4047       -32.395833        115.770833                 0\n",
       "4048  4048       -32.145833        115.854167                 0\n",
       "4049  4049       -31.812500        116.229167                 0\n",
       "4050  4050       -31.562500        116.062500                 0\n",
       "\n",
       "[4051 rows x 4 columns]"
      ]
     },
     "metadata": {},
     "output_type": "display_data"
    }
   ],
   "source": [
    "display(submission)\n",
    "\n",
    "# Save to output folder\n",
    "#submission.to_csv('challenge_1_submission_best_rerun_tidy.csv', index=None)"
   ]
  },
  {
   "cell_type": "markdown",
   "id": "f10fc231-e29e-459e-b9f1-98028589efeb",
   "metadata": {},
   "source": [
    "### Inference runtime: \n",
    "Timing the predictions on each region, then we can view the timing for each region and their mean. "
   ]
  },
  {
   "cell_type": "code",
   "execution_count": 7,
   "id": "5bc210ef-afa1-4abf-a9ce-7caf8a943c33",
   "metadata": {},
   "outputs": [],
   "source": [
    "import time"
   ]
  },
  {
   "cell_type": "code",
   "execution_count": 8,
   "id": "ca6a53a0-f4b9-4867-9eca-915865c4b6ba",
   "metadata": {},
   "outputs": [],
   "source": [
    "# Obtain predictor data for each region and get predictor image\n",
    "runtime_list = []\n",
    "for region in test_regions:\n",
    "    tic = time.time()\n",
    "    region['result'] = predict_frogs(region['predictors'], full_model) > 0.5\n",
    "    toc = time.time()\n",
    "    inference_runtime = toc - tic\n",
    "    runtime_list.append(inference_runtime)"
   ]
  },
  {
   "cell_type": "code",
   "execution_count": 9,
   "id": "1dcd07e9-9a49-4805-9088-4b43d22b1082",
   "metadata": {},
   "outputs": [
    {
     "data": {
      "text/plain": [
       "[0.05983877182006836,\n",
       " 0.057845354080200195,\n",
       " 0.0578460693359375,\n",
       " 0.0498652458190918,\n",
       " 0.04192233085632324]"
      ]
     },
     "execution_count": 9,
     "metadata": {},
     "output_type": "execute_result"
    }
   ],
   "source": [
    "runtime_list"
   ]
  },
  {
   "cell_type": "code",
   "execution_count": 10,
   "id": "3a80d6af-829a-46c2-9111-64dfff52788d",
   "metadata": {},
   "outputs": [
    {
     "data": {
      "text/plain": [
       "0.053"
      ]
     },
     "execution_count": 10,
     "metadata": {},
     "output_type": "execute_result"
    }
   ],
   "source": [
    "np.mean(runtime_list).round(3)"
   ]
  }
 ],
 "metadata": {
  "kernelspec": {
   "display_name": "Python [conda env:2022DSC] *",
   "language": "python",
   "name": "conda-env-2022DSC-py"
  },
  "language_info": {
   "codemirror_mode": {
    "name": "ipython",
    "version": 3
   },
   "file_extension": ".py",
   "mimetype": "text/x-python",
   "name": "python",
   "nbconvert_exporter": "python",
   "pygments_lexer": "ipython3",
   "version": "3.8.12"
  }
 },
 "nbformat": 4,
 "nbformat_minor": 5
}
